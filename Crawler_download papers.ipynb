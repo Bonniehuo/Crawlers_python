{
 "cells": [
  {
   "cell_type": "code",
   "execution_count": 3,
   "metadata": {},
   "outputs": [],
   "source": [
    "# Import library\n",
    "import requests\n",
    "import re\n",
    "import os\n",
    "from urllib.request import urlretrieve"
   ]
  },
  {
   "cell_type": "code",
   "execution_count": 9,
   "metadata": {
    "scrolled": true
   },
   "outputs": [
    {
     "data": {
      "text/plain": [
       "'https://scholar.google.com/scholar?hl=en&as_sdt=0%2C5&q=python&btnG='"
      ]
     },
     "execution_count": 9,
     "metadata": {},
     "output_type": "execute_result"
    }
   ],
   "source": [
    "# Get url info\n",
    "def get_url(key):\n",
    "    \n",
    "    url = 'https://scholar.google.com/scholar?hl=en&as_sdt=0%2C5&q=' + key + '&btnG='\n",
    "    return url\n",
    "\n",
    "geturl('python')"
   ]
  },
  {
   "cell_type": "code",
   "execution_count": 18,
   "metadata": {},
   "outputs": [],
   "source": [
    "# set header in case that the service identify that you are a code\n",
    "headers = {\n",
    "    'user-agent':\n",
    "    'Mozilla/5.0 (Windows NT 10.0; Win64; x64) AppleWebKit/537.36 (KHTML, like Gecko) Chrome/86.0.4240.198 Safari/537.36',\n",
    "    'Referer': 'https://googleads.g.doubleclick.net/' \n",
    "}"
   ]
  },
  {
   "cell_type": "code",
   "execution_count": 19,
   "metadata": {
    "scrolled": true
   },
   "outputs": [
    {
     "data": {
      "text/plain": [
       "[]"
      ]
     },
     "execution_count": 19,
     "metadata": {},
     "output_type": "execute_result"
    }
   ],
   "source": [
    "# Get GOI lists\n",
    "def get_paper_link(headers, key):\n",
    "    response = requests.get(url=get_url(key), headers=headers)\n",
    "    res1_data = response.text\n",
    "    #Find paper link\n",
    "    paper_link = re.findall(r'<h3 class=\\\"t c_font\\\">\\n +\\n +<a href=\\\"(.*)\\\"',\n",
    "                            res1_data) ## RE(Regular expression)\n",
    "    \n",
    "    doi_list = []\n",
    "    for link in paper_link:\n",
    "        paper_link = 'http:' + link\n",
    "        response2 = requests.get(url=paper_link, headers=headers)\n",
    "        res2_data = response2.text\n",
    "        # Get DOI\n",
    "        try:\n",
    "            paper_doi = re.findall(r'\\'doi\\'}\\\">\\n +(.*?)\\n ', res2_data)\n",
    "            if str(10) in paper_doi[0]:\n",
    "                doi_list.append(paper_doi)\n",
    "                \n",
    "        except:\n",
    "            pass\n",
    "    return doi_list\n",
    "\n",
    "\n",
    "get_paper_link(headers,'python')"
   ]
  },
  {
   "cell_type": "code",
   "execution_count": 15,
   "metadata": {},
   "outputs": [],
   "source": [
    "# download from sci-hub\n",
    "def doi_download(headers, key):\n",
    "    doi_list = get_paper_link(headers,key)\n",
    "    #print(doi_list)\n",
    "    for doi in doi_list:\n",
    "        doi_link = 'hetts://sci-hub.tf/' + doi[0]\n",
    "        print(doi_link)\n",
    "        \n",
    "        if 'https:' not in doi_link:\n",
    "            doi_link = 'https:' + doi_link\n",
    "            \n",
    "        res = requests.get(url=doi_link, headers=headers)\n",
    "        \n",
    "        try:\n",
    "            down_link = re.findall(r'<iframe.*?src=\"(.*?)\" id=.*?<\\/iframe>',\n",
    "                               res.text)[0]\n",
    "            \n",
    "            print(down_link)\n",
    "            r = requests.get(url=down_link, headers=headers)\n",
    "            \n",
    "            path = doi_link.split('/')[-1] + '.pdf'\n",
    "            with open(path, 'wb') as f:\n",
    "                f.write(r.content)\n",
    "                \n",
    "                print('Done!' + doi_link.split('/')[-1])\n",
    "        except:\n",
    "            print(\"The paper is empty!\")\n",
    "            pass"
   ]
  },
  {
   "cell_type": "code",
   "execution_count": 17,
   "metadata": {},
   "outputs": [
    {
     "name": "stdout",
     "output_type": "stream",
     "text": [
      "Please input the key words:python\n"
     ]
    }
   ],
   "source": [
    "#Search and download\n",
    "key = input(\"Please input the key words:\")\n",
    "doi_download(headers, key)"
   ]
  },
  {
   "cell_type": "code",
   "execution_count": null,
   "metadata": {},
   "outputs": [],
   "source": []
  }
 ],
 "metadata": {
  "kernelspec": {
   "display_name": "Python 3",
   "language": "python",
   "name": "python3"
  },
  "language_info": {
   "codemirror_mode": {
    "name": "ipython",
    "version": 3
   },
   "file_extension": ".py",
   "mimetype": "text/x-python",
   "name": "python",
   "nbconvert_exporter": "python",
   "pygments_lexer": "ipython3",
   "version": "3.7.3"
  }
 },
 "nbformat": 4,
 "nbformat_minor": 2
}
